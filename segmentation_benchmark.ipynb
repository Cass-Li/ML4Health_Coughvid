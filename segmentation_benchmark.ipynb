{
 "cells": [
  {
   "cell_type": "code",
   "execution_count": 1,
   "id": "007043a6",
   "metadata": {},
   "outputs": [],
   "source": [
    "import os"
   ]
  },
  {
   "cell_type": "code",
   "execution_count": 2,
   "id": "3f989901",
   "metadata": {},
   "outputs": [
    {
     "name": "stdout",
     "output_type": "stream",
     "text": [
      "There are 55101 files\n",
      "Files have extensions {'.webm', '.csv', '.ogg', '.json'}\n"
     ]
    }
   ],
   "source": [
    "path_to_dataset = \"D:\\COUGHVID\\public_dataset\"\n",
    "files = os.listdir(path_to_dataset)\n",
    "print(f\"There are {len(files)} files\")\n",
    "extensions = set([os.path.splitext(f)[1] for f in files])\n",
    "print(f\"Files have extensions {extensions}\")"
   ]
  },
  {
   "cell_type": "code",
   "execution_count": 3,
   "id": "b1d26fe6",
   "metadata": {},
   "outputs": [
    {
     "name": "stdout",
     "output_type": "stream",
     "text": [
      "There are 25985 files with extension .webm\n",
      "There are 1 files with extension .csv\n",
      "There are 1565 files with extension .ogg\n",
      "There are 27550 files with extension .json\n"
     ]
    }
   ],
   "source": [
    "files_by_type = {}\n",
    "for ext in extensions:\n",
    "    files_by_type[ext] = [f for f in files if f.endswith(ext)]\n",
    "    print(f\"There are {len(files_by_type[ext])} files with extension {ext}\")"
   ]
  },
  {
   "cell_type": "code",
   "execution_count": 4,
   "id": "2eef279d",
   "metadata": {},
   "outputs": [],
   "source": [
    "import librosa\n",
    "import IPython"
   ]
  },
  {
   "cell_type": "code",
   "execution_count": 5,
   "id": "c0957cf2",
   "metadata": {},
   "outputs": [],
   "source": [
    "import numpy as np"
   ]
  },
  {
   "cell_type": "code",
   "execution_count": 6,
   "id": "549c483a",
   "metadata": {},
   "outputs": [],
   "source": [
    "def segment_cough(x,fs, cough_padding=0.2,min_cough_len=0.2, th_l_multiplier = 0.1, th_h_multiplier = 2):\n",
    "    \"\"\"Preprocess the data by segmenting each file into individual coughs using a hysteresis comparator on the signal power\n",
    "    \n",
    "    Inputs:\n",
    "    *x (np.array): cough signal\n",
    "    *fs (float): sampling frequency in Hz\n",
    "    *cough_padding (float): number of seconds added to the beginning and end of each detected cough to make sure coughs are not cut short\n",
    "    *min_cough_length (float): length of the minimum possible segment that can be considered a cough\n",
    "    *th_l_multiplier (float): multiplier of the RMS energy used as a lower threshold of the hysteresis comparator\n",
    "    *th_h_multiplier (float): multiplier of the RMS energy used as a high threshold of the hysteresis comparator\n",
    "    \n",
    "    Outputs:\n",
    "    *coughSegments (np.array of np.arrays): a list of cough signal arrays corresponding to each cough\n",
    "    cough_mask (np.array): an array of booleans that are True at the indices where a cough is in progress\"\"\"\n",
    "                \n",
    "    cough_mask = np.array([False]*len(x))\n",
    "    \n",
    "\n",
    "    #Define hysteresis thresholds\n",
    "    rms = np.sqrt(np.mean(np.square(x)))\n",
    "    seg_th_l = th_l_multiplier * rms\n",
    "    seg_th_h =  th_h_multiplier*rms\n",
    "\n",
    "    #Segment coughs\n",
    "    coughSegments = []\n",
    "    padding = round(fs*cough_padding)\n",
    "    min_cough_samples = round(fs*min_cough_len)\n",
    "    cough_start = 0\n",
    "    cough_end = 0\n",
    "    cough_in_progress = False\n",
    "    tolerance = round(0.01*fs)\n",
    "    below_th_counter = 0\n",
    "    \n",
    "    for i, sample in enumerate(x**2):\n",
    "        if cough_in_progress:\n",
    "            if sample<seg_th_l:\n",
    "                below_th_counter += 1\n",
    "                if below_th_counter > tolerance:\n",
    "                    cough_end = i+padding if (i+padding < len(x)) else len(x)-1\n",
    "                    cough_in_progress = False\n",
    "                    if (cough_end+1-cough_start-2*padding>min_cough_samples):\n",
    "                        coughSegments.append(x[cough_start:cough_end+1])\n",
    "                        cough_mask[cough_start:cough_end+1] = True\n",
    "            elif i == (len(x)-1):\n",
    "                cough_end=i\n",
    "                cough_in_progress = False\n",
    "                if (cough_end+1-cough_start-2*padding>min_cough_samples):\n",
    "                    coughSegments.append(x[cough_start:cough_end+1])\n",
    "            else:\n",
    "                below_th_counter = 0\n",
    "        else:\n",
    "            if sample>seg_th_h:\n",
    "                cough_start = i-padding if (i-padding >=0) else 0\n",
    "                cough_in_progress = True\n",
    "    \n",
    "    return coughSegments, cough_mask"
   ]
  },
  {
   "cell_type": "code",
   "execution_count": 7,
   "id": "017ffc56",
   "metadata": {},
   "outputs": [],
   "source": [
    "def compute_SNR(x, fs):\n",
    "    \"\"\"Compute the Signal-to-Noise ratio of the audio signal x (np.array) with sampling frequency fs (float)\"\"\"\n",
    "    segments, cough_mask = segment_cough(x,fs)\n",
    "    RMS_signal = 0 if len(x[cough_mask])==0 else np.sqrt(np.mean(np.square(x[cough_mask])))\n",
    "    RMS_noise = np.sqrt(np.mean(np.square(x[~cough_mask])))\n",
    "    SNR = 0 if (RMS_signal==0 or np.isnan(RMS_noise)) else 20*np.log10(RMS_signal/RMS_noise)\n",
    "    return SNR"
   ]
  },
  {
   "cell_type": "code",
   "execution_count": 48,
   "id": "ac457970",
   "metadata": {},
   "outputs": [],
   "source": [
    "import time"
   ]
  },
  {
   "cell_type": "code",
   "execution_count": 49,
   "id": "8da01938",
   "metadata": {},
   "outputs": [],
   "source": [
    "def test_segmentation_time(sample_size):\n",
    "    start = time.time()\n",
    "\n",
    "    file_to_mask = {}\n",
    "    count = 1\n",
    "    for file in files_by_type['.webm']:\n",
    "\n",
    "        if count == sample_size:\n",
    "            break\n",
    "        audio_file = os.path.join(path_to_dataset, file)\n",
    "        x, sr = librosa.load(audio_file)\n",
    "        cough_segment, cough_mask = segment_cough(x, sr, cough_padding=0.2,min_cough_len=0.2, th_l_multiplier = 0.1, th_h_multiplier = 2)\n",
    "        file_to_mask[file] = cough_mask\n",
    "        count += 1\n",
    "        \n",
    "    end = time.time()\n",
    "    total = end - start\n",
    "    return total"
   ]
  },
  {
   "cell_type": "code",
   "execution_count": 50,
   "id": "a33751d3",
   "metadata": {},
   "outputs": [
    {
     "name": "stdout",
     "output_type": "stream",
     "text": [
      "Total time (sec): 73.02062010765076, to generate segmentation for 100 samples\n",
      "Total time (sec): 429.9650502204895, to generate segmentation for 600 samples\n",
      "Total time (sec): 795.9415507316589, to generate segmentation for 1100 samples\n"
     ]
    },
    {
     "ename": "KeyboardInterrupt",
     "evalue": "",
     "output_type": "error",
     "traceback": [
      "\u001b[1;31m---------------------------------------------------------------------------\u001b[0m",
      "\u001b[1;31mKeyboardInterrupt\u001b[0m                         Traceback (most recent call last)",
      "\u001b[1;32m<ipython-input-50-093e778b9cef>\u001b[0m in \u001b[0;36m<module>\u001b[1;34m\u001b[0m\n\u001b[0;32m      1\u001b[0m \u001b[1;32mfor\u001b[0m \u001b[0msample_size\u001b[0m \u001b[1;32min\u001b[0m \u001b[0mrange\u001b[0m\u001b[1;33m(\u001b[0m\u001b[1;36m100\u001b[0m\u001b[1;33m,\u001b[0m \u001b[1;36m5001\u001b[0m\u001b[1;33m,\u001b[0m \u001b[1;36m500\u001b[0m\u001b[1;33m)\u001b[0m\u001b[1;33m:\u001b[0m\u001b[1;33m\u001b[0m\u001b[1;33m\u001b[0m\u001b[0m\n\u001b[1;32m----> 2\u001b[1;33m     \u001b[0mtotal_time\u001b[0m \u001b[1;33m=\u001b[0m \u001b[0mtest_segmentation_time\u001b[0m\u001b[1;33m(\u001b[0m\u001b[0msample_size\u001b[0m\u001b[1;33m)\u001b[0m\u001b[1;33m\u001b[0m\u001b[1;33m\u001b[0m\u001b[0m\n\u001b[0m\u001b[0;32m      3\u001b[0m     \u001b[0mprint\u001b[0m\u001b[1;33m(\u001b[0m\u001b[1;34mf'Total time (sec): {total_time}, to generate segmentation for {sample_size} samples'\u001b[0m\u001b[1;33m)\u001b[0m\u001b[1;33m\u001b[0m\u001b[1;33m\u001b[0m\u001b[0m\n",
      "\u001b[1;32m<ipython-input-49-6995b82e784d>\u001b[0m in \u001b[0;36mtest_segmentation_time\u001b[1;34m(sample_size)\u001b[0m\n\u001b[0;32m     10\u001b[0m         \u001b[0maudio_file\u001b[0m \u001b[1;33m=\u001b[0m \u001b[0mos\u001b[0m\u001b[1;33m.\u001b[0m\u001b[0mpath\u001b[0m\u001b[1;33m.\u001b[0m\u001b[0mjoin\u001b[0m\u001b[1;33m(\u001b[0m\u001b[0mpath_to_dataset\u001b[0m\u001b[1;33m,\u001b[0m \u001b[0mfile\u001b[0m\u001b[1;33m)\u001b[0m\u001b[1;33m\u001b[0m\u001b[1;33m\u001b[0m\u001b[0m\n\u001b[0;32m     11\u001b[0m         \u001b[0mx\u001b[0m\u001b[1;33m,\u001b[0m \u001b[0msr\u001b[0m \u001b[1;33m=\u001b[0m \u001b[0mlibrosa\u001b[0m\u001b[1;33m.\u001b[0m\u001b[0mload\u001b[0m\u001b[1;33m(\u001b[0m\u001b[0maudio_file\u001b[0m\u001b[1;33m)\u001b[0m\u001b[1;33m\u001b[0m\u001b[1;33m\u001b[0m\u001b[0m\n\u001b[1;32m---> 12\u001b[1;33m         \u001b[0mcough_segment\u001b[0m\u001b[1;33m,\u001b[0m \u001b[0mcough_mask\u001b[0m \u001b[1;33m=\u001b[0m \u001b[0msegment_cough\u001b[0m\u001b[1;33m(\u001b[0m\u001b[0mx\u001b[0m\u001b[1;33m,\u001b[0m \u001b[0msr\u001b[0m\u001b[1;33m,\u001b[0m \u001b[0mcough_padding\u001b[0m\u001b[1;33m=\u001b[0m\u001b[1;36m0.2\u001b[0m\u001b[1;33m,\u001b[0m\u001b[0mmin_cough_len\u001b[0m\u001b[1;33m=\u001b[0m\u001b[1;36m0.2\u001b[0m\u001b[1;33m,\u001b[0m \u001b[0mth_l_multiplier\u001b[0m \u001b[1;33m=\u001b[0m \u001b[1;36m0.1\u001b[0m\u001b[1;33m,\u001b[0m \u001b[0mth_h_multiplier\u001b[0m \u001b[1;33m=\u001b[0m \u001b[1;36m2\u001b[0m\u001b[1;33m)\u001b[0m\u001b[1;33m\u001b[0m\u001b[1;33m\u001b[0m\u001b[0m\n\u001b[0m\u001b[0;32m     13\u001b[0m         \u001b[0mfile_to_mask\u001b[0m\u001b[1;33m[\u001b[0m\u001b[0mfile\u001b[0m\u001b[1;33m]\u001b[0m \u001b[1;33m=\u001b[0m \u001b[0mcough_mask\u001b[0m\u001b[1;33m\u001b[0m\u001b[1;33m\u001b[0m\u001b[0m\n\u001b[0;32m     14\u001b[0m         \u001b[0mcount\u001b[0m \u001b[1;33m+=\u001b[0m \u001b[1;36m1\u001b[0m\u001b[1;33m\u001b[0m\u001b[1;33m\u001b[0m\u001b[0m\n",
      "\u001b[1;32m<ipython-input-6-ecb4be3f28bf>\u001b[0m in \u001b[0;36msegment_cough\u001b[1;34m(x, fs, cough_padding, min_cough_len, th_l_multiplier, th_h_multiplier)\u001b[0m\n\u001b[0;32m     32\u001b[0m     \u001b[0mbelow_th_counter\u001b[0m \u001b[1;33m=\u001b[0m \u001b[1;36m0\u001b[0m\u001b[1;33m\u001b[0m\u001b[1;33m\u001b[0m\u001b[0m\n\u001b[0;32m     33\u001b[0m \u001b[1;33m\u001b[0m\u001b[0m\n\u001b[1;32m---> 34\u001b[1;33m     \u001b[1;32mfor\u001b[0m \u001b[0mi\u001b[0m\u001b[1;33m,\u001b[0m \u001b[0msample\u001b[0m \u001b[1;32min\u001b[0m \u001b[0menumerate\u001b[0m\u001b[1;33m(\u001b[0m\u001b[0mx\u001b[0m\u001b[1;33m**\u001b[0m\u001b[1;36m2\u001b[0m\u001b[1;33m)\u001b[0m\u001b[1;33m:\u001b[0m\u001b[1;33m\u001b[0m\u001b[1;33m\u001b[0m\u001b[0m\n\u001b[0m\u001b[0;32m     35\u001b[0m         \u001b[1;32mif\u001b[0m \u001b[0mcough_in_progress\u001b[0m\u001b[1;33m:\u001b[0m\u001b[1;33m\u001b[0m\u001b[1;33m\u001b[0m\u001b[0m\n\u001b[0;32m     36\u001b[0m             \u001b[1;32mif\u001b[0m \u001b[0msample\u001b[0m\u001b[1;33m<\u001b[0m\u001b[0mseg_th_l\u001b[0m\u001b[1;33m:\u001b[0m\u001b[1;33m\u001b[0m\u001b[1;33m\u001b[0m\u001b[0m\n",
      "\u001b[1;31mKeyboardInterrupt\u001b[0m: "
     ]
    }
   ],
   "source": [
    "for sample_size in range(100, 5001, 500):\n",
    "    total_time = test_segmentation_time(sample_size)\n",
    "    print(f'Total time (sec): {total_time}, to generate segmentation for {sample_size} samples')"
   ]
  }
 ],
 "metadata": {
  "kernelspec": {
   "display_name": "Python 3",
   "language": "python",
   "name": "python3"
  },
  "language_info": {
   "codemirror_mode": {
    "name": "ipython",
    "version": 3
   },
   "file_extension": ".py",
   "mimetype": "text/x-python",
   "name": "python",
   "nbconvert_exporter": "python",
   "pygments_lexer": "ipython3",
   "version": "3.8.8"
  }
 },
 "nbformat": 4,
 "nbformat_minor": 5
}
