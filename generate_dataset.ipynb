{
 "cells": [
  {
   "cell_type": "code",
   "execution_count": 1,
   "id": "68ba76c8",
   "metadata": {},
   "outputs": [],
   "source": [
    "import h5py\n",
    "import librosa\n",
    "import pydub # faster than librosa\n",
    "import numpy      as np\n",
    "import pandas     as pd\n",
    "import time\n",
    "\n",
    "from pytorch.coughvid_dataset import CoughvidDataset\n",
    "from pytorch.test_coughvid_dataset import TestCoughvidDataset\n",
    "from torch.utils.data import DataLoader, SubsetRandomSampler\n",
    "#import torchvision.models as models"
   ]
  },
  {
   "cell_type": "code",
   "execution_count": 2,
   "id": "5a8266e3",
   "metadata": {},
   "outputs": [
    {
     "name": "stdout",
     "output_type": "stream",
     "text": [
      "Mask file C:/COUGHVID_public_dataset/public_dataset/ does not exist. Calculating masks on the fly.\n",
      "8997 records ready to load across 2 groups.\n"
     ]
    },
    {
     "name": "stderr",
     "output_type": "stream",
     "text": [
      "c:\\python39\\lib\\site-packages\\torchaudio\\functional\\functional.py:594: UserWarning: At least one mel filterbank has all zero values. The value for `n_mels` (128) may be set too high. Or, the value for `n_freqs` (201) may be set too low.\n",
      "  warnings.warn(\n"
     ]
    },
    {
     "name": "stdout",
     "output_type": "stream",
     "text": [
      "Mask file C:/COUGHVID_public_dataset/public_dataset/ does not exist. Calculating masks on the fly.\n",
      "8997 records ready to load across 2 groups.\n",
      "8997 matching records found.\n",
      "0.0 seconds elapsed.\n"
     ]
    }
   ],
   "source": [
    "dir = 'C:/COUGHVID_public_dataset/public_dataset/'\n",
    "\n",
    "dataset         = CoughvidDataset(dir, 'metadata_compiled.csv', get_features=False)\n",
    "feature_dataset = CoughvidDataset(dir, 'metadata_compiled.csv', get_features=True)\n",
    "\n",
    "\n",
    "### NOTE: THIS IS ALREADY IMPLEMENTED IN THE DATALOADER CLASS ###\n",
    "# get only records that have a COVID status label and a cough-detected above 0.8. Loading all the files takes too long\n",
    "#data = dataset.dataframe\n",
    "#status = np.isin(data['status'],[0,1,2])#['healthy','symptomatic','COVID-19'])\n",
    "#cough_detected = data['cough_detected'] > 0.8 # recommended threshold from https://www.nature.com/articles/s41597-021-00937-4\n",
    "\n",
    "#labelled_data = data[ np.logical_and(status,cough_detected) ]\n",
    "#dataset.dataframe = labelled_data\n",
    "\n",
    "# load data\n",
    "batch_size = 1\n",
    "num_workers = 8\n",
    "dataloader         = DataLoader(dataset, num_workers=num_workers)#, batch_size=batch_size)\n",
    "feature_dataloader = DataLoader(feature_dataset, num_workers=num_workers)#, batch_size=batch_size)\n",
    "\n",
    "print(str(len(dataloader)) + \" matching records found.\")\n",
    "\n",
    "# takes about 16 minutes\n",
    "start = time.time()\n",
    "#all_data = [[audio,labels] for audio,labels in dataloader]\n",
    "end = time.time()\n",
    "\n",
    "print(f'{end-start} seconds elapsed.')\n",
    "\n",
    "inputs, classes = next(iter(feature_dataloader))  "
   ]
  },
  {
   "cell_type": "code",
   "execution_count": 3,
   "id": "e1f9d4a9",
   "metadata": {},
   "outputs": [
    {
     "data": {
      "text/plain": [
       "tensor([0], dtype=torch.int32)"
      ]
     },
     "execution_count": 3,
     "metadata": {},
     "output_type": "execute_result"
    }
   ],
   "source": [
    "classes"
   ]
  },
  {
   "cell_type": "code",
   "execution_count": 3,
   "id": "d691bce7",
   "metadata": {},
   "outputs": [
    {
     "name": "stdout",
     "output_type": "stream",
     "text": [
      "Total time (sec): 22.601657152175903 (0.22601657152175902 per batch, 0.22601657152175902 per sample with 8 workers)\n"
     ]
    }
   ],
   "source": [
    "tester = TestCoughvidDataset(dataset)\n",
    "tester.test_data_loader()"
   ]
  },
  {
   "cell_type": "code",
   "execution_count": 4,
   "id": "ffc87bb5",
   "metadata": {},
   "outputs": [
    {
     "name": "stdout",
     "output_type": "stream",
     "text": [
      "Total time (sec): 25.93327045440674 (0.25933270454406737 per batch, 0.25933270454406737 per sample with 8 workers)\n"
     ]
    }
   ],
   "source": [
    "tester = TestCoughvidDataset(feature_dataset)\n",
    "tester.test_data_loader()"
   ]
  },
  {
   "cell_type": "code",
   "execution_count": null,
   "id": "9c8f6b0a",
   "metadata": {},
   "outputs": [],
   "source": []
  }
 ],
 "metadata": {
  "kernelspec": {
   "display_name": "Python 3 (ipykernel)",
   "language": "python",
   "name": "python3"
  },
  "language_info": {
   "codemirror_mode": {
    "name": "ipython",
    "version": 3
   },
   "file_extension": ".py",
   "mimetype": "text/x-python",
   "name": "python",
   "nbconvert_exporter": "python",
   "pygments_lexer": "ipython3",
   "version": "3.9.1"
  }
 },
 "nbformat": 4,
 "nbformat_minor": 5
}
