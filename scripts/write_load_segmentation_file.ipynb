{
 "cells": [
  {
   "cell_type": "code",
   "execution_count": 1,
   "id": "007043a6",
   "metadata": {},
   "outputs": [],
   "source": [
    "import os"
   ]
  },
  {
   "cell_type": "code",
   "execution_count": 2,
   "id": "3f989901",
   "metadata": {},
   "outputs": [
    {
     "name": "stdout",
     "output_type": "stream",
     "text": [
      "There are 55101 files\n",
      "Files have extensions {'.json', '.webm', '.csv', '.ogg'}\n"
     ]
    }
   ],
   "source": [
    "path_to_dataset = \"D:\\COUGHVID\\public_dataset\"\n",
    "files = os.listdir(path_to_dataset)\n",
    "print(f\"There are {len(files)} files\")\n",
    "extensions = set([os.path.splitext(f)[1] for f in files])\n",
    "print(f\"Files have extensions {extensions}\")"
   ]
  },
  {
   "cell_type": "code",
   "execution_count": 3,
   "id": "b1d26fe6",
   "metadata": {},
   "outputs": [
    {
     "name": "stdout",
     "output_type": "stream",
     "text": [
      "There are 27550 files with extension .json\n",
      "There are 25985 files with extension .webm\n",
      "There are 1 files with extension .csv\n",
      "There are 1565 files with extension .ogg\n"
     ]
    }
   ],
   "source": [
    "files_by_type = {}\n",
    "for ext in extensions:\n",
    "    files_by_type[ext] = [f for f in files if f.endswith(ext)]\n",
    "    print(f\"There are {len(files_by_type[ext])} files with extension {ext}\")"
   ]
  },
  {
   "cell_type": "code",
   "execution_count": 4,
   "id": "2eef279d",
   "metadata": {},
   "outputs": [],
   "source": [
    "import librosa\n",
    "import IPython"
   ]
  },
  {
   "cell_type": "code",
   "execution_count": 5,
   "id": "c0957cf2",
   "metadata": {},
   "outputs": [],
   "source": [
    "import numpy as np"
   ]
  },
  {
   "cell_type": "code",
   "execution_count": 6,
   "id": "549c483a",
   "metadata": {},
   "outputs": [],
   "source": [
    "def segment_cough(x,fs, cough_padding=0.2,min_cough_len=0.2, th_l_multiplier = 0.1, th_h_multiplier = 2):\n",
    "    \"\"\"Preprocess the data by segmenting each file into individual coughs using a hysteresis comparator on the signal power\n",
    "    \n",
    "    Inputs:\n",
    "    *x (np.array): cough signal\n",
    "    *fs (float): sampling frequency in Hz\n",
    "    *cough_padding (float): number of seconds added to the beginning and end of each detected cough to make sure coughs are not cut short\n",
    "    *min_cough_length (float): length of the minimum possible segment that can be considered a cough\n",
    "    *th_l_multiplier (float): multiplier of the RMS energy used as a lower threshold of the hysteresis comparator\n",
    "    *th_h_multiplier (float): multiplier of the RMS energy used as a high threshold of the hysteresis comparator\n",
    "    \n",
    "    Outputs:\n",
    "    *coughSegments (np.array of np.arrays): a list of cough signal arrays corresponding to each cough\n",
    "    cough_mask (np.array): an array of booleans that are True at the indices where a cough is in progress\"\"\"\n",
    "                \n",
    "    cough_mask = np.array([False]*len(x))\n",
    "    \n",
    "\n",
    "    #Define hysteresis thresholds\n",
    "    rms = np.sqrt(np.mean(np.square(x)))\n",
    "    seg_th_l = th_l_multiplier * rms\n",
    "    seg_th_h =  th_h_multiplier*rms\n",
    "\n",
    "    #Segment coughs\n",
    "    coughSegments = []\n",
    "    padding = round(fs*cough_padding)\n",
    "    min_cough_samples = round(fs*min_cough_len)\n",
    "    cough_start = 0\n",
    "    cough_end = 0\n",
    "    cough_in_progress = False\n",
    "    tolerance = round(0.01*fs)\n",
    "    below_th_counter = 0\n",
    "    \n",
    "    for i, sample in enumerate(x**2):\n",
    "        if cough_in_progress:\n",
    "            if sample<seg_th_l:\n",
    "                below_th_counter += 1\n",
    "                if below_th_counter > tolerance:\n",
    "                    cough_end = i+padding if (i+padding < len(x)) else len(x)-1\n",
    "                    cough_in_progress = False\n",
    "                    if (cough_end+1-cough_start-2*padding>min_cough_samples):\n",
    "                        coughSegments.append(x[cough_start:cough_end+1])\n",
    "                        cough_mask[cough_start:cough_end+1] = True\n",
    "            elif i == (len(x)-1):\n",
    "                cough_end=i\n",
    "                cough_in_progress = False\n",
    "                if (cough_end+1-cough_start-2*padding>min_cough_samples):\n",
    "                    coughSegments.append(x[cough_start:cough_end+1])\n",
    "            else:\n",
    "                below_th_counter = 0\n",
    "        else:\n",
    "            if sample>seg_th_h:\n",
    "                cough_start = i-padding if (i-padding >=0) else 0\n",
    "                cough_in_progress = True\n",
    "    \n",
    "    return coughSegments, cough_mask"
   ]
  },
  {
   "cell_type": "code",
   "execution_count": 42,
   "id": "ac457970",
   "metadata": {},
   "outputs": [],
   "source": [
    "import time"
   ]
  },
  {
   "cell_type": "code",
   "execution_count": 68,
   "id": "8da01938",
   "metadata": {},
   "outputs": [],
   "source": [
    "def test_segmentation_time():\n",
    "    start = time.time()\n",
    "\n",
    "    outfile = TemporaryFile()\n",
    "    count = 1\n",
    "    total_mask = []\n",
    "    for file in files_by_type['.webm']:\n",
    "\n",
    "        if count == 100:\n",
    "            break\n",
    "        audio_file = os.path.join(path_to_dataset, file)\n",
    "        x, sr = librosa.load(audio_file)\n",
    "        cough_segment, cough_mask = segment_cough(x, sr, cough_padding=0.2,min_cough_len=0.2, th_l_multiplier = 0.1, th_h_multiplier = 2)\n",
    "        total_mask.append(cough_mask)\n",
    "        count += 1\n",
    "       \n",
    "    np.save('segmentation.npy', total_mask, allow_pickle = True)\n",
    "    end = time.time()\n",
    "    total = end - start\n",
    "    return total"
   ]
  },
  {
   "cell_type": "code",
   "execution_count": 69,
   "id": "a33751d3",
   "metadata": {},
   "outputs": [
    {
     "data": {
      "text/plain": [
       "72.87383246421814"
      ]
     },
     "execution_count": 69,
     "metadata": {},
     "output_type": "execute_result"
    }
   ],
   "source": [
    "test_segmentation_time()"
   ]
  },
  {
   "cell_type": "code",
   "execution_count": 86,
   "id": "cf161c54",
   "metadata": {},
   "outputs": [
    {
     "name": "stdout",
     "output_type": "stream",
     "text": [
      "0.012370586395263672\n"
     ]
    }
   ],
   "source": [
    "start = time.time()\n",
    "data = np.load('segmentation.npy', allow_pickle = True)\n",
    "end = time.time()\n",
    "print(end - start)"
   ]
  }
 ],
 "metadata": {
  "kernelspec": {
   "display_name": "Python 3",
   "language": "python",
   "name": "python3"
  },
  "language_info": {
   "codemirror_mode": {
    "name": "ipython",
    "version": 3
   },
   "file_extension": ".py",
   "mimetype": "text/x-python",
   "name": "python",
   "nbconvert_exporter": "python",
   "pygments_lexer": "ipython3",
   "version": "3.8.8"
  }
 },
 "nbformat": 4,
 "nbformat_minor": 5
}
