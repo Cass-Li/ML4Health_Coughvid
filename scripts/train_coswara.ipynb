{
 "cells": [
  {
   "cell_type": "code",
   "execution_count": 1,
   "id": "5167be78",
   "metadata": {},
   "outputs": [],
   "source": [
    "from coughvid import CoswaraTrainer"
   ]
  },
  {
   "cell_type": "code",
   "execution_count": 2,
   "id": "57ec91bc",
   "metadata": {},
   "outputs": [
    {
     "name": "stdout",
     "output_type": "stream",
     "text": [
      "756 samples per epoch.\n",
      "Using GPU.\n",
      "50 - loss: 0.8621664120092166, acc: 0.52\n",
      "100 - loss: 0.9011739926509086, acc: 0.51\n",
      "150 - loss: 0.8718150667425624, acc: 0.5533333333333333\n",
      "200 - loss: 0.8592776993180551, acc: 0.525\n",
      "250 - loss: 0.8482314414952639, acc: 0.528\n",
      "300 - loss: 0.8333577857042647, acc: 0.5266666666666666\n",
      "350 - loss: 0.8312098006481886, acc: 0.5285714285714286\n",
      "400 - loss: 0.8200941186560863, acc: 0.515\n",
      "450 - loss: 0.8196452441374068, acc: 0.5111111111111111\n",
      "500 - loss: 0.810065274220106, acc: 0.508\n",
      "550 - loss: 0.8050123295402278, acc: 0.5036363636363637\n",
      "600 - loss: 0.8030155276232912, acc: 0.505\n",
      "650 - loss: 0.803668894061246, acc: 0.49846153846153846\n",
      "700 - loss: 0.8066916750864083, acc: 0.49714285714285716\n",
      "750 - loss: 0.802181426402018, acc: 0.496\n",
      "epoch: 1 - train loss: 0.8020909592725672, train acc: 0.4947089947089947\n",
      "epoch: 1 - test loss: 0.8495364624430813, test acc: 0.19399538106235567\n"
     ]
    }
   ],
   "source": [
    "data_dir = '../data/coswara'\n",
    "trainer = CoswaraTrainer(data_dir)\n",
    "trainer.train_model(model_type='resnet18',num_epochs=1)"
   ]
  },
  {
   "cell_type": "code",
   "execution_count": null,
   "id": "800710e7",
   "metadata": {},
   "outputs": [],
   "source": []
  }
 ],
 "metadata": {
  "kernelspec": {
   "display_name": "Python 3 (ipykernel)",
   "language": "python",
   "name": "python3"
  },
  "language_info": {
   "codemirror_mode": {
    "name": "ipython",
    "version": 3
   },
   "file_extension": ".py",
   "mimetype": "text/x-python",
   "name": "python",
   "nbconvert_exporter": "python",
   "pygments_lexer": "ipython3",
   "version": "3.9.5"
  }
 },
 "nbformat": 4,
 "nbformat_minor": 5
}
